{
 "cells": [
  {
   "cell_type": "markdown",
   "metadata": {},
   "source": [
    "![Save2Drive](https://raw.githubusercontent.com/alahnala/AI4All2020-Michigan-NLP/master/slides/save2drive.png)\n",
    "\n",
    "# Language Translation\n",
    "\n",
    "In this project we will be teaching a model to translate from English to Spanish. After you go through this notebook once, you can teach the model to translate from English to French, German, or another language of your choice (just ask us in office hours!) or translate to English from any other language.\n",
    "\n",
    "Before we get started, here is an overview of how language works."
   ]
  },
  {
   "cell_type": "markdown",
   "metadata": {},
   "source": [
    "![Save2Drive](https://raw.githubusercontent.com/meera9397/LanguageTranslation/master/slides/overview.png)"
   ]
  },
  {
   "cell_type": "markdown",
   "metadata": {},
   "source": [
    "![Save2Drive](https://raw.githubusercontent.com/meera9397/LanguageTranslation/master/slides/overview2.png)"
   ]
  },
  {
   "cell_type": "markdown",
   "metadata": {},
   "source": [
    "![Save2Drive](https://raw.githubusercontent.com/meera9397/LanguageTranslation/master/slides/encoder.png)"
   ]
  },
  {
   "cell_type": "markdown",
   "metadata": {},
   "source": [
    "![Save2Drive](https://raw.githubusercontent.com/meera9397/LanguageTranslation/master/slides/decoder.png)"
   ]
  },
  {
   "cell_type": "markdown",
   "metadata": {},
   "source": [
    "![Save2Drive](https://raw.githubusercontent.com/meera9397/LanguageTranslation/master/slides/detail_overview.png)"
   ]
  },
  {
   "cell_type": "markdown",
   "metadata": {},
   "source": [
    "# How to run"
   ]
  },
  {
   "cell_type": "markdown",
   "metadata": {},
   "source": [
    "In order to run this notebook, you have to do the following steps:"
   ]
  },
  {
   "cell_type": "markdown",
   "metadata": {},
   "source": [
    "![Save2Drive](https://raw.githubusercontent.com/meera9397/LanguageTranslation/master/slides/run1.png)"
   ]
  },
  {
   "cell_type": "markdown",
   "metadata": {},
   "source": [
    "![Save2Drive](https://raw.githubusercontent.com/meera9397/LanguageTranslation/master/slides/run2.png)"
   ]
  },
  {
   "cell_type": "markdown",
   "metadata": {},
   "source": [
    "# Setup"
   ]
  },
  {
   "cell_type": "code",
   "execution_count": 1,
   "metadata": {},
   "outputs": [],
   "source": [
    "import sys, os\n",
    "IN_COLAB = 'google.colab' in sys.modules\n",
    "\n",
    "if IN_COLAB:\n",
    "    !rm -r LanguageTranslation\n",
    "    !git clone https://github.com/meera9397/LanguageTranslation.git\n",
    "    !cp -r LanguageTranslation/data/ .\n",
    "    !cp -r LanguageTranslation/slides/ .\n",
    "    !cp -r LanguageTranslation/utils/ .\n",
    "    !echo \"=== Files Copied ===\"\n",
    "    \n",
    "from utils.language_translation_help import *\n"
   ]
  },
  {
   "cell_type": "markdown",
   "metadata": {},
   "source": [
    "# Loading Data Files\n",
    "\n",
    "The data for this project is a set of many thousands of English to Spanish translation pairs. The file is a tab separated list of translation pairs:\n",
    "\n",
    "```\n",
    "I am cold.    Yo soy frio.\n",
    "```"
   ]
  },
  {
   "cell_type": "markdown",
   "metadata": {},
   "source": [
    "### Run the cell below to load the `normalize_string` function\n",
    "In order to make the translation easier, we perform several preprocessing steps, including \n",
    "* making all characters lowercase  --> .lower()\n",
    "* stripping white space --> .stri()\n",
    "* trim punctuation --> re.sub(r\"([.!?])\", r\" \\1\", s), re.sub(r\"[^a-zA-Z.!?]+\", r\" \", s)\n",
    "\n",
    "\n",
    "After you run through this notebook, you can come back here and play around with this cell. Think about the following questions when you do that:\n",
    "####  What would happen if you didn't lower case all the characters? \n",
    "####  What would happen if you didn't strip the lower case? \n",
    "#### What would happen if you removed things besides punctuation? "
   ]
  },
  {
   "cell_type": "code",
   "execution_count": 2,
   "metadata": {},
   "outputs": [
    {
     "name": "stdout",
     "output_type": "stream",
     "text": [
      "Function loaded\n"
     ]
    }
   ],
   "source": [
    "def normalize_string(s):\n",
    "    s = unicode_to_ascii(s.lower().strip())\n",
    "    s = re.sub(r\"([.!?])\", r\" \\1\", s)\n",
    "    s = re.sub(r\"[^a-zA-Z.!?]+\", r\" \", s)\n",
    "    return s\n",
    "print(\"Function loaded\")"
   ]
  },
  {
   "cell_type": "markdown",
   "metadata": {},
   "source": [
    "# Filtering sentences\n",
    "\n",
    "Since there are a *lot* of example sentences and we want to train something relatively quickly, we'll trim the data set to only relatively short and simple sentences. We're filtering to sentences that translate to the form \"I am\" or \"He is\" etc. (accounting for apostrophes being removed). \n",
    "\n",
    "After you go through this notebook, feel free to change these prefixes or add to them and see how that affects your model. You can look through the data files in the data folder and see which prefixes are used that are not included here for ideas on what to add in this section. Think about the following question when you do this:\n",
    "\n",
    "#### Why do you think we include contractions? (ex. \"i am\" as well as \"i m\"). Do you see a decrease or increase in the performance of the encoder and decoder when removing contractions?\n",
    "#### What are some other prefixes you chose to add/ remove here? Why?"
   ]
  },
  {
   "cell_type": "code",
   "execution_count": 3,
   "metadata": {
    "collapsed": false,
    "jupyter": {
     "outputs_hidden": false
    }
   },
   "outputs": [
    {
     "name": "stdout",
     "output_type": "stream",
     "text": [
      "good_prefixes loaded\n"
     ]
    }
   ],
   "source": [
    "# run to load good_prefixes\n",
    "good_prefixes = (\n",
    "    \"i am \", \"i m \",\n",
    "    \"he is\", \"he s \",\n",
    "    \"she is\", \"she s\",\n",
    "    \"you are\", \"you re \"\n",
    ")\n",
    "\n",
    "print(\"good_prefixes loaded\")"
   ]
  },
  {
   "cell_type": "markdown",
   "metadata": {},
   "source": [
    "Here we have some functions to help us filter our data into sentences that have \"good prefixes.\" If you decide that you want to perform a translation from a language to English, you can change the variable english_to in the function below.\n"
   ]
  },
  {
   "cell_type": "code",
   "execution_count": 4,
   "metadata": {},
   "outputs": [
    {
     "name": "stdout",
     "output_type": "stream",
     "text": [
      "Functions loaded\n"
     ]
    }
   ],
   "source": [
    "# run to load functions\n",
    "def filter_pair(p, good_prefixes):\n",
    "    # change the following variable from True to False if you want to translate a certain language TO English.\n",
    "    # This variable being True indicates that we are translating English into another language\n",
    "    english_to = True\n",
    "    if english_to == True:\n",
    "        return len(p[0].split(' ')) < MAX_LENGTH and len(p[1].split(' ')) < MAX_LENGTH and \\\n",
    "            p[0].startswith(good_prefixes)\n",
    "    return len(p[0].split(' ')) < MAX_LENGTH and len(p[1].split(' ')) < MAX_LENGTH and \\\n",
    "            p[1].startswith(good_prefixes)\n",
    "\n",
    "def prepare_data(lang1_name, lang2_name, reverse=False):\n",
    "    input_lang, output_lang, pairs = read_langs(lang1_name, lang2_name, normalize_string, reverse)\n",
    "    print(\"Read %s sentence pairs\" % len(pairs))\n",
    "    pairs = filter_pairs(pairs, good_prefixes, filter_pair)\n",
    "    print(\"Trimmed to %s sentence pairs\" % len(pairs))\n",
    "    print(\"Indexing words...\")\n",
    "    for pair in pairs:\n",
    "        input_lang.index_words(pair[0])\n",
    "        output_lang.index_words(pair[1])\n",
    "\n",
    "    return input_lang, output_lang, pairs\n",
    "\n",
    "print(\"Functions loaded\")"
   ]
  },
  {
   "cell_type": "markdown",
   "metadata": {},
   "source": [
    "Now, we prepare our final data to input into our encoder and decoder using the \"prepare data\" function. It takes in 3 variables:\n",
    "* lang1: a language we want to translate from or to. This always going to be 'eng', which is short for 'English.'\n",
    "* lang2: a language we want to translate from or to. This is set by default to 'spa', which is short for 'Spanish.'\n",
    "* reverse: False if we want to translate from lang1 to lang2, True if we want to translate from lang2 to lang1\n",
    "\n",
    "If you want to translate **from** Spanish **to** English, set:\n",
    "* lang1 = 'eng'\n",
    "* lang2 = 'spa'\n",
    "* reverse: True\n",
    "* english_to in the filter_pair function (above) to False\n",
    "\n",
    "If you want to translate **from** English **to** French, set:\n",
    "* lang1 = 'eng'\n",
    "* lang2 = 'fra'\n",
    "* reverse: False\n",
    "* english_to in the filter_pair function (above) to True\n",
    "\n",
    "If you want to translate **from** French **to** English\n",
    "* lang1 = 'eng'\n",
    "* lang2 = 'fra'\n",
    "* reverse: True\n",
    "* english_to in the filter_pair function to False\n",
    "\n",
    "If you want to translate **from** English **to** German\n",
    "* lang1 = 'eng'\n",
    "* lang2 = 'deu'\n",
    "* reverse: False\n",
    "* english_to in the filter_pair function (above) to True\n",
    "\n",
    "If you want to translate **from** German **to** English\n",
    "* lang1 = 'eng'\n",
    "* lang2 = 'deu'\n",
    "* reverse: True\n",
    "* english_to in the filter_pair function (above) to False\n",
    "\n",
    "#### This function outputs pairs of phrases in \"initial_lang\" and \"final_lang\", AKA the languages you want to translate from and to. We print an example pair at the end of the cell"
   ]
  },
  {
   "cell_type": "code",
   "execution_count": 5,
   "metadata": {
    "collapsed": false,
    "jupyter": {
     "outputs_hidden": false
    }
   },
   "outputs": [
    {
     "name": "stdout",
     "output_type": "stream",
     "text": [
      "Reading lines...\n",
      "Read 124325 sentence pairs\n",
      "Trimmed to 6840 sentence pairs\n",
      "Indexing words...\n",
      "['i m very happy to be here .', 'estoy muy contento de estar aqui .']\n"
     ]
    }
   ],
   "source": [
    "# run cell\n",
    "\n",
    "initial_lang = 'eng'\n",
    "final_lang = 'spa'\n",
    "reverse = False\n",
    "\n",
    "input_lang, output_lang, pairs = prepare_data(initial_lang, final_lang, reverse)\n",
    "\n",
    "# Print an example pair\n",
    "print(random.choice(pairs))"
   ]
  },
  {
   "cell_type": "markdown",
   "metadata": {
    "jupyter": {
     "outputs_hidden": false
    }
   },
   "source": [
    "# Testing the Encoder and Decoder\n",
    "The exact inputs and outputs are not exactly important for this cell. I just wanted you to get a little bit of intuition on how the encoders and decoders work. We start with a certain input, \"word_input\", initialize an encoder, \"encoder_test\", and run the encoder using both of those. We take the output of the encoder, \"all_encoder_outputs\", and put that into the decoder, along with the initialized decoder, \"decoder_test\", and the initial input to produce our final outputs."
   ]
  },
  {
   "cell_type": "code",
   "execution_count": 6,
   "metadata": {
    "collapsed": false,
    "jupyter": {
     "outputs_hidden": false
    }
   },
   "outputs": [
    {
     "name": "stdout",
     "output_type": "stream",
     "text": [
      "Done\n"
     ]
    },
    {
     "name": "stderr",
     "output_type": "stream",
     "text": [
      "/data3/home/meerak/LanguageTranslation/utils/language_translation_help.py:189: UserWarning: Implicit dimension choice for softmax has been deprecated. Change the call to include dim=X as an argument.\n",
      "  return F.softmax(attn_energies).unsqueeze(0).unsqueeze(0)\n",
      "/data3/home/meerak/LanguageTranslation/utils/language_translation_help.py:253: UserWarning: Implicit dimension choice for log_softmax has been deprecated. Change the call to include dim=X as an argument.\n",
      "  output = F.log_softmax(self.out(torch.cat((rnn_output, context), 1)))\n"
     ]
    }
   ],
   "source": [
    "# run cell\n",
    "\n",
    "word_input = Variable(torch.LongTensor([1, 2, 3]))\n",
    "encoder_test = create_encoder()\n",
    "decoder_test =  create_decoder()\n",
    "\n",
    "all_encoder_outputs = run_encoder(encoder_test, word_input)\n",
    "_ = run_decoder(decoder_test, word_input, all_encoder_outputs)\n",
    "\n",
    "print(\"Done\")"
   ]
  },
  {
   "cell_type": "markdown",
   "metadata": {},
   "source": [
    "# Training Our Model"
   ]
  },
  {
   "cell_type": "markdown",
   "metadata": {},
   "source": [
    "![Save2Drive](https://raw.githubusercontent.com/meera9397/LanguageTranslation/master/slides/training.png)"
   ]
  },
  {
   "cell_type": "markdown",
   "metadata": {},
   "source": [
    "The first step to \"training\" is initializing our encoder and decoder. We do this in one step, and have it hidden in a helper function for ease."
   ]
  },
  {
   "cell_type": "code",
   "execution_count": 7,
   "metadata": {
    "collapsed": false,
    "jupyter": {
     "outputs_hidden": false
    }
   },
   "outputs": [],
   "source": [
    "# Run cell to initialize models\n",
    "all_vars_training = init_vars(input_lang, output_lang)"
   ]
  },
  {
   "cell_type": "markdown",
   "metadata": {},
   "source": [
    "In the following cell, **n_epochs** is the amount of time that we want to train for. A unit of time in this case is an \"epoch.\" After going through this file, you can play around with this number. Think about the following questions:\n",
    "#### Would increasing or decreasing n_epochs improve performance? Why?\n",
    "#### Do you notice a big difference in the translation ability of your encoder/decoder when you increase/decrease n_epochs?"
   ]
  },
  {
   "cell_type": "code",
   "execution_count": 8,
   "metadata": {
    "collapsed": false,
    "jupyter": {
     "outputs_hidden": false
    }
   },
   "outputs": [],
   "source": [
    "# Run cell to configuring training\n",
    "n_epochs = 10000\n",
    "plot_every = 200\n",
    "print_every = 100\n",
    "\n",
    "# Keep track of time elapsed and running averages\n",
    "start = time.time()\n",
    "plot_losses = []\n",
    "print_loss_total = 0 # Reset every print_every\n",
    "plot_loss_total = 0 # Reset every plot_every"
   ]
  },
  {
   "cell_type": "markdown",
   "metadata": {},
   "source": [
    "In the following cell, we train our encoder and decoder! At each step, we compute a value called \"loss\", which is an indication of how bad our model is at language translation at the time (the higher the loss, the worse our model is at language translation). The loss should decrease over time.\n",
    "\n",
    "**This will take a few minutes**"
   ]
  },
  {
   "cell_type": "code",
   "execution_count": null,
   "metadata": {
    "collapsed": false,
    "jupyter": {
     "outputs_hidden": false
    }
   },
   "outputs": [
    {
     "name": "stderr",
     "output_type": "stream",
     "text": [
      "/data3/home/meerak/LanguageTranslation/utils/language_translation_help.py:352: UserWarning: torch.nn.utils.clip_grad_norm is now deprecated in favor of torch.nn.utils.clip_grad_norm_.\n",
      "  torch.nn.utils.clip_grad_norm(encoder.parameters(), clip)\n",
      "/data3/home/meerak/LanguageTranslation/utils/language_translation_help.py:353: UserWarning: torch.nn.utils.clip_grad_norm is now deprecated in favor of torch.nn.utils.clip_grad_norm_.\n",
      "  torch.nn.utils.clip_grad_norm(decoder.parameters(), clip)\n"
     ]
    },
    {
     "name": "stdout",
     "output_type": "stream",
     "text": [
      "Epoch 100: 0m 3s (- 5m 49s) (100 1%) 4.8445\n",
      "Epoch 200: 0m 7s (- 5m 52s) (200 2%) 4.0429\n",
      "Epoch 300: 0m 11s (- 6m 10s) (300 3%) 3.8808\n",
      "Epoch 400: 0m 15s (- 6m 19s) (400 4%) 4.1323\n",
      "Epoch 500: 0m 20s (- 6m 20s) (500 5%) 4.0110\n",
      "Epoch 600: 0m 24s (- 6m 29s) (600 6%) 3.9298\n",
      "Epoch 700: 0m 29s (- 6m 34s) (700 7%) 3.8189\n",
      "Epoch 800: 0m 34s (- 6m 37s) (800 8%) 3.8088\n",
      "Epoch 900: 0m 38s (- 6m 32s) (900 9%) 3.8684\n",
      "Epoch 1000: 0m 42s (- 6m 26s) (1000 10%) 3.9882\n",
      "Epoch 1100: 0m 47s (- 6m 20s) (1100 11%) 3.8869\n",
      "Epoch 1200: 0m 51s (- 6m 18s) (1200 12%) 3.7975\n",
      "Epoch 1300: 0m 56s (- 6m 16s) (1300 13%) 3.9468\n",
      "Epoch 1400: 1m 1s (- 6m 18s) (1400 14%) 3.8225\n",
      "Epoch 1500: 1m 6s (- 6m 16s) (1500 15%) 3.8846\n",
      "Epoch 1600: 1m 11s (- 6m 13s) (1600 16%) 3.6399\n",
      "Epoch 1700: 1m 15s (- 6m 8s) (1700 17%) 3.8216\n",
      "Epoch 1800: 1m 20s (- 6m 8s) (1800 18%) 3.6718\n",
      "Epoch 1900: 1m 25s (- 6m 6s) (1900 19%) 3.7389\n",
      "Epoch 2000: 1m 31s (- 6m 5s) (2000 20%) 3.6796\n",
      "Epoch 2100: 1m 35s (- 6m 0s) (2100 21%) 3.6804\n",
      "Epoch 2200: 1m 40s (- 5m 56s) (2200 22%) 3.5615\n",
      "Epoch 2300: 1m 45s (- 5m 54s) (2300 23%) 3.6524\n",
      "Epoch 2400: 1m 50s (- 5m 48s) (2400 24%) 3.5561\n",
      "Epoch 2500: 1m 53s (- 5m 40s) (2500 25%) 3.4312\n",
      "Epoch 2600: 1m 58s (- 5m 37s) (2600 26%) 3.5734\n",
      "Epoch 2700: 2m 3s (- 5m 34s) (2700 27%) 3.6201\n",
      "Epoch 2800: 2m 8s (- 5m 29s) (2800 28%) 3.6698\n",
      "Epoch 2900: 2m 13s (- 5m 25s) (2900 28%) 3.6115\n",
      "Epoch 3000: 2m 17s (- 5m 20s) (3000 30%) 3.5118\n",
      "Epoch 3100: 2m 22s (- 5m 17s) (3100 31%) 3.5958\n",
      "Epoch 3200: 2m 27s (- 5m 13s) (3200 32%) 3.4971\n",
      "Epoch 3300: 2m 32s (- 5m 9s) (3300 33%) 3.2066\n",
      "Epoch 3400: 2m 37s (- 5m 6s) (3400 34%) 3.2852\n",
      "Epoch 3500: 2m 43s (- 5m 3s) (3500 35%) 3.4157\n",
      "Epoch 3600: 2m 48s (- 4m 59s) (3600 36%) 3.4694\n",
      "Epoch 3700: 2m 53s (- 4m 55s) (3700 37%) 3.3635\n",
      "Epoch 3800: 2m 58s (- 4m 51s) (3800 38%) 3.2578\n",
      "Epoch 3900: 3m 3s (- 4m 47s) (3900 39%) 3.2813\n",
      "Epoch 4000: 3m 8s (- 4m 43s) (4000 40%) 3.2537\n",
      "Epoch 4100: 3m 13s (- 4m 38s) (4100 41%) 3.1695\n",
      "Epoch 4200: 3m 18s (- 4m 33s) (4200 42%) 3.2950\n",
      "Epoch 4300: 3m 22s (- 4m 29s) (4300 43%) 3.3867\n",
      "Epoch 4400: 3m 28s (- 4m 24s) (4400 44%) 3.0733\n",
      "Epoch 4500: 3m 33s (- 4m 20s) (4500 45%) 3.2997\n",
      "Epoch 4600: 3m 38s (- 4m 16s) (4600 46%) 3.1199\n",
      "Epoch 4700: 3m 43s (- 4m 12s) (4700 47%) 3.0225\n",
      "Epoch 4800: 3m 49s (- 4m 8s) (4800 48%) 3.1694\n",
      "Epoch 4900: 3m 55s (- 4m 5s) (4900 49%) 3.4205\n",
      "Epoch 5000: 4m 0s (- 4m 0s) (5000 50%) 2.9334\n",
      "Epoch 5100: 4m 5s (- 3m 55s) (5100 51%) 3.1864\n",
      "Epoch 5200: 4m 10s (- 3m 51s) (5200 52%) 3.1631\n",
      "Epoch 5300: 4m 15s (- 3m 46s) (5300 53%) 3.3381\n",
      "Epoch 5400: 4m 19s (- 3m 41s) (5400 54%) 2.9116\n",
      "Epoch 5500: 4m 24s (- 3m 36s) (5500 55%) 3.0327\n",
      "Epoch 5600: 4m 30s (- 3m 32s) (5600 56%) 2.9798\n",
      "Epoch 5700: 4m 35s (- 3m 28s) (5700 56%) 3.3356\n",
      "Epoch 5800: 4m 40s (- 3m 23s) (5800 57%) 3.1073\n",
      "Epoch 5900: 4m 46s (- 3m 18s) (5900 59%) 3.0234\n",
      "Epoch 6000: 4m 51s (- 3m 14s) (6000 60%) 3.0233\n",
      "Epoch 6100: 4m 56s (- 3m 9s) (6100 61%) 2.9684\n",
      "Epoch 6200: 5m 2s (- 3m 5s) (6200 62%) 2.9936\n",
      "Epoch 6300: 5m 6s (- 3m 0s) (6300 63%) 2.9691\n",
      "Epoch 6400: 5m 11s (- 2m 55s) (6400 64%) 2.6963\n",
      "Epoch 6500: 5m 16s (- 2m 50s) (6500 65%) 3.1550\n",
      "Epoch 6600: 5m 21s (- 2m 45s) (6600 66%) 2.9092\n",
      "Epoch 6700: 5m 26s (- 2m 40s) (6700 67%) 3.0351\n",
      "Epoch 6800: 5m 32s (- 2m 36s) (6800 68%) 2.8188\n",
      "Epoch 6900: 5m 38s (- 2m 31s) (6900 69%) 2.7444\n",
      "Epoch 7000: 5m 43s (- 2m 27s) (7000 70%) 2.7840\n",
      "Epoch 7100: 5m 47s (- 2m 22s) (7100 71%) 3.0739\n",
      "Epoch 7200: 5m 51s (- 2m 16s) (7200 72%) 2.8628\n",
      "Epoch 7300: 5m 56s (- 2m 11s) (7300 73%) 2.8261\n",
      "Epoch 7400: 6m 0s (- 2m 6s) (7400 74%) 2.6541\n",
      "Epoch 7500: 6m 6s (- 2m 2s) (7500 75%) 2.8255\n",
      "Epoch 7600: 6m 11s (- 1m 57s) (7600 76%) 2.6851\n",
      "Epoch 7700: 6m 16s (- 1m 52s) (7700 77%) 2.7543\n",
      "Epoch 7800: 6m 22s (- 1m 47s) (7800 78%) 2.8943\n",
      "Epoch 7900: 6m 27s (- 1m 43s) (7900 79%) 2.8917\n",
      "Epoch 8000: 6m 32s (- 1m 38s) (8000 80%) 2.7235\n",
      "Epoch 8100: 6m 37s (- 1m 33s) (8100 81%) 2.6364\n",
      "Epoch 8200: 6m 41s (- 1m 28s) (8200 82%) 2.7578\n",
      "Epoch 8300: 6m 46s (- 1m 23s) (8300 83%) 2.6858\n",
      "Epoch 8400: 6m 51s (- 1m 18s) (8400 84%) 2.6878\n",
      "Epoch 8500: 6m 56s (- 1m 13s) (8500 85%) 2.7536\n",
      "Epoch 8600: 7m 2s (- 1m 8s) (8600 86%) 2.7791\n",
      "Epoch 8700: 7m 7s (- 1m 3s) (8700 87%) 2.8281\n",
      "Epoch 8800: 7m 12s (- 0m 58s) (8800 88%) 2.6489\n",
      "Epoch 8900: 7m 17s (- 0m 54s) (8900 89%) 2.7927\n",
      "Epoch 9000: 7m 21s (- 0m 49s) (9000 90%) 2.8000\n",
      "Epoch 9100: 7m 26s (- 0m 44s) (9100 91%) 2.5609\n",
      "Epoch 9200: 7m 31s (- 0m 39s) (9200 92%) 2.3931\n",
      "Epoch 9300: 7m 36s (- 0m 34s) (9300 93%) 2.5800\n",
      "Epoch 9400: 7m 41s (- 0m 29s) (9400 94%) 2.5579\n",
      "Epoch 9500: 7m 46s (- 0m 24s) (9500 95%) 2.4918\n",
      "Epoch 9600: 7m 51s (- 0m 19s) (9600 96%) 2.6522\n",
      "Epoch 9700: 7m 57s (- 0m 14s) (9700 97%) 2.5643\n",
      "Epoch 9800: 8m 1s (- 0m 9s) (9800 98%) 2.8369\n",
      "Epoch 9900: 8m 5s (- 0m 4s) (9900 99%) 2.5255\n"
     ]
    }
   ],
   "source": [
    "# Run cell to start training!\n",
    "for epoch in range(1, n_epochs + 1):\n",
    "    # Get phrase in language to translate from (input variable, default = English phrase) and\n",
    "    # phrase in language to translate to (target variable, default = Spanish phrase)\n",
    "    training_pair = variables_from_pair(random.choice(pairs), input_lang, output_lang)\n",
    "    input_variable = training_pair[0]\n",
    "    target_variable = training_pair[1]\n",
    "\n",
    "    # Run the train function\n",
    "    loss = train(input_variable, target_variable, all_vars_training)\n",
    "\n",
    "    # Keep track of loss\n",
    "    print_loss_total += loss\n",
    "    plot_loss_total += loss\n",
    "\n",
    "    if epoch == 0: continue\n",
    "\n",
    "    if epoch % print_every == 0:\n",
    "        print_loss_avg = print_loss_total / print_every\n",
    "        print_loss_total = 0\n",
    "        print_summary = 'Epoch %s: %s (%d %d%%) %.4f' % (epoch, time_since(start, epoch / n_epochs), epoch, epoch / n_epochs * 100, print_loss_avg)\n",
    "        print(print_summary)\n",
    "        \n",
    "    if epoch % plot_every == 0:\n",
    "        plot_loss_avg = plot_loss_total / plot_every\n",
    "        plot_losses.append(plot_loss_avg)\n",
    "        plot_loss_total = 0\n"
   ]
  },
  {
   "cell_type": "markdown",
   "metadata": {},
   "source": [
    "Here, you can see the loss decreasing over time, as our encoder and decoder get better at language translation."
   ]
  },
  {
   "cell_type": "code",
   "execution_count": null,
   "metadata": {},
   "outputs": [],
   "source": [
    "%matplotlib inline\n",
    "\n",
    "def show_plot(points):\n",
    "    plt.figure()\n",
    "    fig, ax = plt.subplots()\n",
    "    loc = ticker.MultipleLocator(base=0.2) # put ticks at regular intervals\n",
    "    ax.yaxis.set_major_locator(loc)\n",
    "    plt.plot(points)\n",
    "\n",
    "show_plot(plot_losses)"
   ]
  },
  {
   "cell_type": "markdown",
   "metadata": {},
   "source": [
    "# Evaluation"
   ]
  },
  {
   "cell_type": "markdown",
   "metadata": {},
   "source": [
    "Now that we have trained our encoder and decoder, we can use them to perform translations! Below, in the \"evaluate_randomly\" function, we randomly pick a pair of phrases that we have trained on, and see how well we can translate that phrase. "
   ]
  },
  {
   "cell_type": "code",
   "execution_count": null,
   "metadata": {},
   "outputs": [],
   "source": [
    "for_evaluations = (input_lang, output_lang, all_vars_training[0], all_vars_training[1])"
   ]
  },
  {
   "cell_type": "code",
   "execution_count": null,
   "metadata": {},
   "outputs": [],
   "source": [
    "def evaluate_randomly():\n",
    "    pair = random.choice(pairs)\n",
    "    output_words, decoder_attn = evaluate(pair[0], for_evaluations)\n",
    "    output_sentence = ' '.join(output_words)\n",
    "    \n",
    "    print('>', pair[0])\n",
    "    print('=', pair[1])\n",
    "    print('<', output_sentence)\n",
    "    print('')"
   ]
  },
  {
   "cell_type": "markdown",
   "metadata": {},
   "source": [
    "You can keep running this cell over and over again to see how well the translator does on various phrases."
   ]
  },
  {
   "cell_type": "code",
   "execution_count": null,
   "metadata": {
    "collapsed": false,
    "jupyter": {
     "outputs_hidden": false
    }
   },
   "outputs": [],
   "source": [
    "evaluate_randomly()"
   ]
  },
  {
   "cell_type": "markdown",
   "metadata": {},
   "source": [
    "You can also evaluate the encoder/decoder on phrases that you come up with! Here is an example of how to do that. \n",
    "### Note\n",
    "If you translated from English to another language, the phrases you test have to start with the \"good prefixes\" and also contain words that the model has seen before. This is why you may get errors if you change the \"phrase\" below.\n",
    "\n",
    "If you translated from another language to English, you have to select phrases that start with translated \"good prefixes\" and also contain translated words the model has seen before."
   ]
  },
  {
   "cell_type": "code",
   "execution_count": null,
   "metadata": {},
   "outputs": [],
   "source": [
    "phrase = 'i m happy .'\n",
    "output_words, _ = evaluate(phrase, for_evaluations)\n",
    "output_sentence = ' '.join(output_words)\n",
    "print('>', phrase)\n",
    "print('<', output_sentence)"
   ]
  }
 ],
 "metadata": {
  "anaconda-cloud": {},
  "kernelspec": {
   "display_name": "Python 3",
   "language": "python",
   "name": "python3"
  },
  "language_info": {
   "codemirror_mode": {
    "name": "ipython",
    "version": 3
   },
   "file_extension": ".py",
   "mimetype": "text/x-python",
   "name": "python",
   "nbconvert_exporter": "python",
   "pygments_lexer": "ipython3",
   "version": "3.7.5"
  }
 },
 "nbformat": 4,
 "nbformat_minor": 4
}
