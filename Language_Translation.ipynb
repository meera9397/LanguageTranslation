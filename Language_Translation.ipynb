{
 "cells": [
  {
   "cell_type": "markdown",
   "metadata": {},
   "source": [
    "![Save2Drive](https://raw.githubusercontent.com/alahnala/AI4All2020-Michigan-NLP/master/slides/save2drive.png)\n",
    "\n",
    "# Language Translation\n",
    "\n",
    "In this project we will be teaching a model to translate from English to Spanish. After you go through this notebook once, you can teach the model to translate from English to French, German, or another language of your choice (just ask us in office hours!) or translate to English from any other language.\n",
    "\n",
    "Before we get started, here is an overview of how language works."
   ]
  },
  {
   "cell_type": "markdown",
   "metadata": {},
   "source": [
    "![Save2Drive](https://raw.githubusercontent.com/meera9397/LanguageTranslation/master/slides/overview.png)"
   ]
  },
  {
   "cell_type": "markdown",
   "metadata": {},
   "source": [
    "![Save2Drive](https://raw.githubusercontent.com/meera9397/LanguageTranslation/master/slides/overview2.png)"
   ]
  },
  {
   "cell_type": "markdown",
   "metadata": {},
   "source": [
    "![Save2Drive](https://raw.githubusercontent.com/meera9397/LanguageTranslation/master/slides/encoder.png)"
   ]
  },
  {
   "cell_type": "markdown",
   "metadata": {},
   "source": [
    "![Save2Drive](https://raw.githubusercontent.com/meera9397/LanguageTranslation/master/slides/decoder.png)"
   ]
  },
  {
   "cell_type": "markdown",
   "metadata": {},
   "source": [
    "![Save2Drive](https://raw.githubusercontent.com/meera9397/LanguageTranslation/master/slides/detail_overview.png)"
   ]
  },
  {
   "cell_type": "markdown",
   "metadata": {},
   "source": [
    "# How to run"
   ]
  },
  {
   "cell_type": "markdown",
   "metadata": {},
   "source": [
    "In order to run this notebook, you have to do the following steps:"
   ]
  },
  {
   "cell_type": "markdown",
   "metadata": {},
   "source": [
    "![Save2Drive](https://raw.githubusercontent.com/meera9397/LanguageTranslation/master/slides/run1.png)"
   ]
  },
  {
   "cell_type": "markdown",
   "metadata": {},
   "source": [
    "![Save2Drive](https://raw.githubusercontent.com/meera9397/LanguageTranslation/master/slides/run2.png)"
   ]
  },
  {
   "cell_type": "markdown",
   "metadata": {},
   "source": [
    "# Setup"
   ]
  },
  {
   "cell_type": "code",
   "execution_count": null,
   "metadata": {},
   "outputs": [],
   "source": [
    "import sys, os\n",
    "from google.colab import drive\n",
    "IN_COLAB = 'google.colab' in sys.modules\n",
    "\n",
    "if IN_COLAB:\n",
    "    !rm -r Language_Translation\n",
    "    !git clone https://github.com/meera9397/LanguageTranslation.git\n",
    "    !cp -r LanguageTranslation/data/ .\n",
    "    !cp -r LanguageTranslation/slides/ .\n",
    "    !cp -r utils/ .\n",
    "    !echo \"=== Files Copied ===\"\n",
    "    \n",
    "from language_translation_help import *\n"
   ]
  },
  {
   "cell_type": "markdown",
   "metadata": {},
   "source": [
    "# Loading Data Files\n",
    "\n",
    "The data for this project is a set of many thousands of English to Spanish translation pairs. The file is a tab separated list of translation pairs:\n",
    "\n",
    "```\n",
    "I am cold.    Yo soy frio.\n",
    "```"
   ]
  },
  {
   "cell_type": "markdown",
   "metadata": {},
   "source": [
    "In order to make the translation easier, we perform several preprocessing steps, including \n",
    "* making all characters lowercase  --> .lower()\n",
    "* stripping white space --> .stri()\n",
    "* trim punctuation --> re.sub(r\"([.!?])\", r\" \\1\", s), re.sub(r\"[^a-zA-Z.!?]+\", r\" \", s)\n",
    "\n",
    "\n",
    "After you run through this notebook, you can come back here and play around with this cell. Think about the following questions when you do that:\n",
    "####  What would happen if you didn't lower case all the characters? \n",
    "####  What would happen if you didn't strip the lower case? \n",
    "#### What would happen if you removed things besides punctuation? "
   ]
  },
  {
   "cell_type": "code",
   "execution_count": null,
   "metadata": {},
   "outputs": [],
   "source": [
    "def normalize_string(s):\n",
    "    s = unicode_to_ascii(s.lower().strip())\n",
    "    s = re.sub(r\"([.!?])\", r\" \\1\", s)\n",
    "    s = re.sub(r\"[^a-zA-Z.!?]+\", r\" \", s)\n",
    "    return s"
   ]
  },
  {
   "cell_type": "markdown",
   "metadata": {},
   "source": [
    "# Filtering sentences\n",
    "\n",
    "Since there are a *lot* of example sentences and we want to train something relatively quickly, we'll trim the data set to only relatively short and simple sentences. We're filtering to sentences that translate to the form \"I am\" or \"He is\" etc. (accounting for apostrophes being removed). \n",
    "\n",
    "After you go through this notebook, feel free to change these prefixes or add to them and see how that affects your model. You can look through the data files in the data folder and see which prefixes are used that are not included here for ideas on what to add in this section. Think about the following question when you do this:\n",
    "\n",
    "#### Why do you think we include contractions? (ex. \"i am\" as well as \"i m\"). Do you see a decrease or increase in the performance of the encoder and decoder when removing contractions?\n",
    "#### What are some other prefixes you chose to add/ remove here? Why?"
   ]
  },
  {
   "cell_type": "code",
   "execution_count": null,
   "metadata": {
    "jupyter": {
     "outputs_hidden": false
    }
   },
   "outputs": [],
   "source": [
    "good_prefixes = (\n",
    "    \"i am \", \"i m \",\n",
    "    \"he is\", \"he s \",\n",
    "    \"she is\", \"she s\",\n",
    "    \"you are\", \"you re \"\n",
    ")"
   ]
  },
  {
   "cell_type": "markdown",
   "metadata": {},
   "source": [
    "Here we have some functions to help us filter our data into sentences that have \"good prefixes.\" If you decide that you want to perform a translation from a language to English, you can change the variable english_to in the function below.\n"
   ]
  },
  {
   "cell_type": "code",
   "execution_count": null,
   "metadata": {},
   "outputs": [],
   "source": [
    "def filter_pair(p, good_prefixes):\n",
    "    # change the following variable from True to False if you want to translate a certain language TO English.\n",
    "    # This variable being True indicates that we are translating English into another language\n",
    "    english_to = True\n",
    "    if english_to == True:\n",
    "        return len(p[0].split(' ')) < MAX_LENGTH and len(p[1].split(' ')) < MAX_LENGTH and \\\n",
    "            p[0].startswith(good_prefixes)\n",
    "    return len(p[0].split(' ')) < MAX_LENGTH and len(p[1].split(' ')) < MAX_LENGTH and \\\n",
    "            p[1].startswith(good_prefixes)\n",
    "\n",
    "def prepare_data(lang1_name, lang2_name, reverse=False):\n",
    "    input_lang, output_lang, pairs = read_langs(lang1_name, lang2_name, normalize_string, reverse)\n",
    "    print(\"Read %s sentence pairs\" % len(pairs))\n",
    "    pairs = filter_pairs(pairs, good_prefixes, filter_pair)\n",
    "    print(\"Trimmed to %s sentence pairs\" % len(pairs))\n",
    "    print(\"Indexing words...\")\n",
    "    for pair in pairs:\n",
    "        input_lang.index_words(pair[0])\n",
    "        output_lang.index_words(pair[1])\n",
    "\n",
    "    return input_lang, output_lang, pairs"
   ]
  },
  {
   "cell_type": "markdown",
   "metadata": {},
   "source": [
    "Now, we prepare our final data to input into our encoder and decoder using the \"prepare data\" function. It takes in 3 variables:\n",
    "* lang1: a language we want to translate from or to. This always going to be 'eng', which is short for 'English.'\n",
    "* lang2: a language we want to translate from or to. This is set by default to 'spa', which is short for 'Spanish.'\n",
    "* reverse: False if we want to translate from lang1 to lang2, True if we want to translate from lang2 to lang1\n",
    "\n",
    "If you want to translate **from** Spanish **to** English, set:\n",
    "* lang1 = 'eng'\n",
    "* lang2 = 'spa'\n",
    "* reverse: True\n",
    "* english_to in the filter_pair function (above) to False\n",
    "\n",
    "If you want to translate **from** English **to** French, set:\n",
    "* lang1 = 'eng'\n",
    "* lang2 = 'fra'\n",
    "* reverse: False\n",
    "* english_to in the filter_pair function (above) to True\n",
    "\n",
    "If you want to translate **from** French **to** English\n",
    "* lang1 = 'eng'\n",
    "* lang2 = 'fra'\n",
    "* reverse: True\n",
    "* english_to in the filter_pair function to False\n",
    "\n",
    "If you want to translate **from** English **to** German\n",
    "* lang1 = 'eng'\n",
    "* lang2 = 'deu'\n",
    "* reverse: False\n",
    "* english_to in the filter_pair function (above) to True\n",
    "\n",
    "If you want to translate **from** German **to** English\n",
    "* lang1 = 'eng'\n",
    "* lang2 = 'deu'\n",
    "* reverse: True\n",
    "* english_to in the filter_pair function to False\n",
    "* english_to in the filter_pair function (above) to False\n",
    "\n",
    "#### This function outputs pairs of phrases in \"initial_lang\" and \"final_lang\", AKA the languages you want to translate from and to. We print an example pair at the end of the cell"
   ]
  },
  {
   "cell_type": "code",
   "execution_count": null,
   "metadata": {
    "jupyter": {
     "outputs_hidden": false
    }
   },
   "outputs": [],
   "source": [
    "initial_lang = 'eng'\n",
    "final_lang = 'spa'\n",
    "reverse = False\n",
    "\n",
    "input_lang, output_lang, pairs = prepare_data(initial_lang, final_lang, reverse)\n",
    "\n",
    "# Print an example pair\n",
    "print(random.choice(pairs))"
   ]
  },
  {
   "cell_type": "markdown",
   "metadata": {
    "jupyter": {
     "outputs_hidden": false
    }
   },
   "source": [
    "# Testing the Encoder and Decoder\n",
    "The exact inputs and outputs are not exactly important for this cell. I just wanted you to get a little bit of intuition on how the encoders and decoders work. We start with a certain input, \"word_input\", initialize an encoder, \"encoder_test\", and run the encoder using both of those. We take the output of the encoder, \"all_encoder_outputs\", and put that into the decoder, along with the initialized decoder, \"decoder_test\", and the initial input to produce our final outputs."
   ]
  },
  {
   "cell_type": "code",
   "execution_count": null,
   "metadata": {
    "jupyter": {
     "outputs_hidden": false
    }
   },
   "outputs": [],
   "source": [
    "word_input = Variable(torch.LongTensor([1, 2, 3]))\n",
    "encoder_test = create_encoder()\n",
    "decoder_test =  create_decoder()\n",
    "\n",
    "all_encoder_outputs = run_encoder(encoder_test, word_input)\n",
    "_ = run_decoder(decoder_test, word_input, all_encoder_outputs)"
   ]
  },
  {
   "cell_type": "markdown",
   "metadata": {},
   "source": [
    "# Training Our Model"
   ]
  },
  {
   "cell_type": "markdown",
   "metadata": {},
   "source": [
    "![Save2Drive](https://raw.githubusercontent.com/meera9397/LanguageTranslation/master/slides/training.png)"
   ]
  },
  {
   "cell_type": "markdown",
   "metadata": {},
   "source": [
    "The first step to \"training\" is initializing our encoder and decoder. We do this in one step, and have it hidden in a helper function for ease."
   ]
  },
  {
   "cell_type": "code",
   "execution_count": null,
   "metadata": {
    "jupyter": {
     "outputs_hidden": false
    }
   },
   "outputs": [],
   "source": [
    "# Initialize models\n",
    "all_vars_training = init_vars(input_lang, output_lang)"
   ]
  },
  {
   "cell_type": "markdown",
   "metadata": {},
   "source": [
    "In the following cell, **n_epochs** is the amount of time that we want to train for. A unit of time in this case is an \"epoch.\" After going through this file, you can play around with this number. Think about the following questions:\n",
    "#### Would increasing or decreasing n_epochs improve performance? Why?\n",
    "#### Do you notice a big difference in the translation ability of your encoder/decoder when you increase/decrease n_epochs?"
   ]
  },
  {
   "cell_type": "code",
   "execution_count": null,
   "metadata": {
    "jupyter": {
     "outputs_hidden": false
    }
   },
   "outputs": [],
   "source": [
    "# Configuring training\n",
    "n_epochs = 10000\n",
    "plot_every = 200\n",
    "print_every = 100\n",
    "\n",
    "# Keep track of time elapsed and running averages\n",
    "start = time.time()\n",
    "plot_losses = []\n",
    "print_loss_total = 0 # Reset every print_every\n",
    "plot_loss_total = 0 # Reset every plot_every"
   ]
  },
  {
   "cell_type": "markdown",
   "metadata": {},
   "source": [
    "In the following cell, we train our encoder and decoder! At each step, we compute a value called \"loss\", which is an indication of how bad our model is at language translation at the time (the higher the loss, the worse our model is at language translation). The loss should decrease over time."
   ]
  },
  {
   "cell_type": "code",
   "execution_count": null,
   "metadata": {
    "jupyter": {
     "outputs_hidden": false
    }
   },
   "outputs": [],
   "source": [
    "# Begin!\n",
    "for epoch in range(1, n_epochs + 1):\n",
    "    # Get phrase in language to translate from (input variable, default = English phrase) and\n",
    "    # phrase in language to translate to (target variable, default = Spanish phrase)\n",
    "    training_pair = variables_from_pair(random.choice(pairs), input_lang, output_lang)\n",
    "    input_variable = training_pair[0]\n",
    "    target_variable = training_pair[1]\n",
    "\n",
    "    # Run the train function\n",
    "    loss = train(input_variable, target_variable, all_vars_training)\n",
    "\n",
    "    # Keep track of loss\n",
    "    print_loss_total += loss\n",
    "    plot_loss_total += loss\n",
    "\n",
    "    if epoch == 0: continue\n",
    "\n",
    "    if epoch % print_every == 0:\n",
    "        print_loss_avg = print_loss_total / print_every\n",
    "        print_loss_total = 0\n",
    "        print_summary = '%s (%d %d%%) %.4f' % (time_since(start, epoch / n_epochs), epoch, epoch / n_epochs * 100, print_loss_avg)\n",
    "        print(print_summary)\n",
    "        \n",
    "    if epoch % plot_every == 0:\n",
    "        plot_loss_avg = plot_loss_total / plot_every\n",
    "        plot_losses.append(plot_loss_avg)\n",
    "        plot_loss_total = 0\n"
   ]
  },
  {
   "cell_type": "markdown",
   "metadata": {},
   "source": [
    "Here, you can see the loss decreasing over time, as our encoder and decoder get better at language translation."
   ]
  },
  {
   "cell_type": "code",
   "execution_count": null,
   "metadata": {},
   "outputs": [],
   "source": [
    "%matplotlib inline\n",
    "\n",
    "def show_plot(points):\n",
    "    plt.figure()\n",
    "    fig, ax = plt.subplots()\n",
    "    loc = ticker.MultipleLocator(base=0.2) # put ticks at regular intervals\n",
    "    ax.yaxis.set_major_locator(loc)\n",
    "    plt.plot(points)\n",
    "\n",
    "show_plot(plot_losses)"
   ]
  },
  {
   "cell_type": "markdown",
   "metadata": {},
   "source": [
    "# Evaluation"
   ]
  },
  {
   "cell_type": "markdown",
   "metadata": {},
   "source": [
    "Now that we have trained our encoder and decoder, we can use them to perform translations! Below, in the \"evaluate_randomly\" function, we randomly pick a pair of phrases that we have trained on, and see how well we can translate that phrase. "
   ]
  },
  {
   "cell_type": "code",
   "execution_count": null,
   "metadata": {},
   "outputs": [],
   "source": [
    "for_evaluations = (input_lang, output_lang, all_vars_training[0], all_vars_training[1])"
   ]
  },
  {
   "cell_type": "code",
   "execution_count": null,
   "metadata": {},
   "outputs": [],
   "source": [
    "def evaluate_randomly():\n",
    "    pair = random.choice(pairs)\n",
    "    output_words, decoder_attn = evaluate(pair[0], for_evaluations)\n",
    "    output_sentence = ' '.join(output_words)\n",
    "    \n",
    "    print('>', pair[0])\n",
    "    print('=', pair[1])\n",
    "    print('<', output_sentence)\n",
    "    print('')"
   ]
  },
  {
   "cell_type": "markdown",
   "metadata": {},
   "source": [
    "You can keep running this cell over and over again to see how well the translator does on various phrases."
   ]
  },
  {
   "cell_type": "code",
   "execution_count": null,
   "metadata": {
    "jupyter": {
     "outputs_hidden": false
    }
   },
   "outputs": [],
   "source": [
    "evaluate_randomly()"
   ]
  },
  {
   "cell_type": "markdown",
   "metadata": {},
   "source": [
    "You can also evaluate the encoder/decoder on phrases that you come up with! Here is an example of how to do that. \n",
    "### Note\n",
    "If you translated from English to another language, the phrases you test have to start with the \"good prefixes\" and also contain words that the model has seen before. This is why you may get errors if you change the \"phrase\" below.\n",
    "\n",
    "If you translated from another language to English, you have to select phrases that start with translated \"good prefixes\" and also contain translated words the model has seen before."
   ]
  },
  {
   "cell_type": "code",
   "execution_count": null,
   "metadata": {},
   "outputs": [],
   "source": [
    "phrase = 'i m happy .'\n",
    "output_words, _ = evaluate(phrase, for_evaluations)\n",
    "output_sentence = ' '.join(output_words)\n",
    "print('>', phrase)\n",
    "print('<', output_sentence)"
   ]
  }
 ],
 "metadata": {
  "anaconda-cloud": {},
  "kernelspec": {
   "display_name": "Python 3",
   "language": "python",
   "name": "python3"
  },
  "language_info": {
   "codemirror_mode": {
    "name": "ipython",
    "version": 3
   },
   "file_extension": ".py",
   "mimetype": "text/x-python",
   "name": "python",
   "nbconvert_exporter": "python",
   "pygments_lexer": "ipython3",
   "version": "3.7.5"
  }
 },
 "nbformat": 4,
 "nbformat_minor": 4
}
